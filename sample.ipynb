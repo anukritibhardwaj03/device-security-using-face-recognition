{
 "cells": [
  {
   "cell_type": "code",
   "execution_count": 2,
   "id": "bd4e221f",
   "metadata": {},
   "outputs": [
    {
     "name": "stdout",
     "output_type": "stream",
     "text": [
      "Enter a Numeric user ID  here:  2\n",
      "Taking samples, look at camera ....... \n",
      "Samples taken now closing the program....\n"
     ]
    }
   ],
   "source": [
    "import cv2\n",
    "import pyttsx3 \n",
    "engine = pyttsx3.init() \n",
    "engine.setProperty('voice', 'HKEY_LOCAL_MACHINE\\SOFTWARE\\Microsoft\\Speech\\Voices\\Tokens\\TTS_MS_EN-US_ZIRA_11.0')\n",
    "\n",
    "cam = cv2.VideoCapture(0, cv2.CAP_DSHOW) #create a video capture object which is helpful to capture videos through webcam\n",
    "cam.set(3, 640) # set video FrameWidth\n",
    "cam.set(4, 480) # set video FrameHeight\n",
    "\n",
    "detector = cv2.CascadeClassifier('haarcascade_frontalface_default.xml')\n",
    "#Haar Cascade classifier is an effective object detection approach\n",
    "\n",
    "face_id = input(\"Enter a Numeric user ID  here:  \")\n",
    "#Use integer ID for every new face (0,1,2,3,4,5,6,7,8,9........)\n",
    "\n",
    "engine.say(\"Taking samples, look at camera.....\")\n",
    "print(\"Taking samples, look at camera ....... \")\n",
    "engine.runAndWait()\n",
    "count = 0 # Initializing sampling face count\n",
    "\n",
    "while True:\n",
    "\n",
    "    ret, img = cam.read() #read the frames using the above created object\n",
    "    converted_image = cv2.cvtColor(img, cv2.COLOR_BGR2GRAY) #The function converts an input image from one color space to another\n",
    "    faces = detector.detectMultiScale(converted_image, 1.3, 5)\n",
    "\n",
    "    for (x,y,w,h) in faces:\n",
    "\n",
    "        cv2.rectangle(img, (x,y), (x+w,y+h), (255,0,0), 2) #used to draw a rectangle on any image\n",
    "        count += 1\n",
    "\n",
    "        \n",
    "        cv2.imwrite(\"samples/face.\" + str(face_id) + '.' + str(count) + \".jpg\", converted_image[y:y+h,x:x+w])\n",
    "        # To capture & Save images into the datasets folder\n",
    "\n",
    "        cv2.imshow('image', img) #Used to display an image in a window\n",
    "\n",
    "    k = cv2.waitKey(2) & 0xff # Waits for a pressed key\n",
    "    if k == 27: # Press 'ESC' to stop\n",
    "        break\n",
    "    elif count >= 6: # Take 6 sample (More sample --> More accuracy)\n",
    "         break\n",
    "\n",
    "engine.say(\"Samples taken now closing the program...\")            \n",
    "print(\"Samples taken now closing the program....\")\n",
    "\n",
    "engine.runAndWait()\n",
    "cam.release()\n",
    "cv2.destroyAllWindows()\n"
   ]
  },
  {
   "cell_type": "code",
   "execution_count": null,
   "id": "321b7ce2",
   "metadata": {},
   "outputs": [],
   "source": []
  },
  {
   "cell_type": "code",
   "execution_count": null,
   "id": "e24e1faf",
   "metadata": {},
   "outputs": [],
   "source": []
  }
 ],
 "metadata": {
  "kernelspec": {
   "display_name": "Python 3 (ipykernel)",
   "language": "python",
   "name": "python3"
  },
  "language_info": {
   "codemirror_mode": {
    "name": "ipython",
    "version": 3
   },
   "file_extension": ".py",
   "mimetype": "text/x-python",
   "name": "python",
   "nbconvert_exporter": "python",
   "pygments_lexer": "ipython3",
   "version": "3.10.4"
  }
 },
 "nbformat": 4,
 "nbformat_minor": 5
}
