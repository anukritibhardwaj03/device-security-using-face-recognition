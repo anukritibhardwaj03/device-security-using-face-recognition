{
 "cells": [
  {
   "cell_type": "code",
   "execution_count": 2,
   "id": "64d93304",
   "metadata": {},
   "outputs": [
    {
     "name": "stdout",
     "output_type": "stream",
     "text": [
      "Training faces. It will take a few seconds. Wait ...\n",
      "Model trained, Now we can recognize your face\n"
     ]
    }
   ],
   "source": [
    "import cv2\n",
    "import numpy as np\n",
    "from PIL import Image #pillow package\n",
    "import os\n",
    "import pyttsx3\n",
    "engine = pyttsx3.init()\n",
    "engine.setProperty('voice', 'HKEY_LOCAL_MACHINE\\SOFTWARE\\Microsoft\\Speech\\Voices\\Tokens\\TTS_MS_EN-US_ZIRA_11.0')\n",
    "path = 'samples' # Path for samples already taken\n",
    "\n",
    "recognizer = cv2.face.LBPHFaceRecognizer_create() # Local Binary Patterns Histograms\n",
    "detector = cv2.CascadeClassifier(\"haarcascade_frontalface_default.xml\")\n",
    "#Haar Cascade classifier is an effective object detection approach\n",
    "\n",
    "\n",
    "def Images_And_Labels(path): # function to fetch the images and labels\n",
    "\n",
    "    imagePaths = [os.path.join(path,f) for f in os.listdir(path)]     \n",
    "    faceSamples=[]\n",
    "    ids = []\n",
    "\n",
    "    for imagePath in imagePaths: # to iterate particular image path\n",
    "\n",
    "        gray_img = Image.open(imagePath).convert('L') # convert it to grayscale\n",
    "        img_arr = np.array(gray_img,'uint8') #creating an array\n",
    "\n",
    "        id = int(os.path.split(imagePath)[-1].split(\".\")[1])\n",
    "        faces = detector.detectMultiScale(img_arr)\n",
    "\n",
    "        for (x,y,w,h) in faces:\n",
    "            faceSamples.append(img_arr[y:y+h,x:x+w])\n",
    "            ids.append(id)\n",
    "\n",
    "    return faceSamples,ids\n",
    "\n",
    "engine.say(\"Training faces. It will take a few seconds. Wait ...\") \n",
    "print (\"Training faces. It will take a few seconds. Wait ...\")\n",
    "engine.runAndWait() \n",
    "\n",
    "faces,ids = Images_And_Labels(path)\n",
    "recognizer.train(faces, np.array(ids))\n",
    "\n",
    "recognizer.write('trainer/trainer.yml')  # Save the trained model as trainer.yml\n",
    "\n",
    "engine.say(\"Model trained, Now we can recognize your face\") \n",
    " \n",
    "print(\"Model trained, Now we can recognize your face\")\n",
    "engine.runAndWait()"
   ]
  },
  {
   "cell_type": "code",
   "execution_count": null,
   "id": "ac90eb4e",
   "metadata": {},
   "outputs": [],
   "source": []
  },
  {
   "cell_type": "code",
   "execution_count": null,
   "id": "85a0131e",
   "metadata": {},
   "outputs": [],
   "source": []
  }
 ],
 "metadata": {
  "kernelspec": {
   "display_name": "Python 3 (ipykernel)",
   "language": "python",
   "name": "python3"
  },
  "language_info": {
   "codemirror_mode": {
    "name": "ipython",
    "version": 3
   },
   "file_extension": ".py",
   "mimetype": "text/x-python",
   "name": "python",
   "nbconvert_exporter": "python",
   "pygments_lexer": "ipython3",
   "version": "3.10.4"
  }
 },
 "nbformat": 4,
 "nbformat_minor": 5
}
